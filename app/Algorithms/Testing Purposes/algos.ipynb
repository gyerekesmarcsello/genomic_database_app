{
 "cells": [
  {
   "cell_type": "code",
   "execution_count": 15,
   "metadata": {
    "collapsed": true
   },
   "outputs": [],
   "source": [
    "import pandas as pd\n",
    "import numpy as np\n",
    "from sklearn import preprocessing as proc\n",
    "from sklearn.svm import SVC\n",
    "from sklearn.model_selection import train_test_split\n",
    "import matplotlib.pyplot as plt"
   ]
  },
  {
   "cell_type": "code",
   "execution_count": 16,
   "outputs": [],
   "source": [
    "data = pd.read_csv('training.csv')"
   ],
   "metadata": {
    "collapsed": false
   }
  },
  {
   "cell_type": "code",
   "execution_count": 17,
   "outputs": [
    {
     "data": {
      "text/plain": "     Unnamed: 0  Chromosome   Position  Variant_Classification  \\\n0             0           1    2488139                       1   \n1             2           1  120612018                       4   \n2             4           4   57798317                       2   \n3             8           6  161807842                       1   \n4            17          20   31386449                       3   \n..          ...         ...        ...                     ...   \n148      140430          11  108178704                       1   \n149      141120          12   49426892                       1   \n150      141902          13   32929387                       0   \n151      144588          17   41228505                       0   \n152      148100          23   44929062                       1   \n\n     Reference_Allele  Tumor_Seq_Allele1  Tumor_Seq_Allele2  HGVSc  HGVSp  \\\n0                   2                  2                  0     56     88   \n1                   1                  3                  3     59     64   \n2                   0                  3                  3     50     83   \n3                   2                  3                  3      6     79   \n4                   3                  3                  1     24     95   \n..                ...                ...                ...    ...    ...   \n148                 1                  1                  3     81     24   \n149                 2                  2                  0      7     32   \n150                 3                  1                  1     96     99   \n151                 1                  1                  3     67      3   \n152                 1                  1                  0     33     81   \n\n     Exon_Number  ...  Codons  STRAND_VEP  EXON  IMPACT  GENE_PHENO  FILTER  \\\n0              4  ...      66         1.0    73       0         1.0       0   \n1              2  ...      34        -1.0    78       0         1.0       0   \n2             61  ...      52         1.0    57       0         1.0       0   \n3              5  ...      53        -1.0    14       0         1.0       0   \n4             29  ...      63         1.0    29       1         1.0       1   \n..           ...  ...     ...         ...   ...     ...         ...     ...   \n148           55  ...       4         1.0    55       0         1.0       0   \n149           56  ...       5        -1.0    56       0         1.0       0   \n150           25  ...      42         1.0    25       2         1.0       1   \n151           24  ...      28        -1.0    24       2         1.0       0   \n152           31  ...      53         1.0    31       0         1.0       0   \n\n     flanking_bps  vcf_qual  MUTATION_EFFECT  ONCOGENIC  \n0              26     31.76                3          2  \n1              22     45.74                3          2  \n2              31    186.03                3          2  \n3              37     29.79                3          2  \n4               8     16.16                3          2  \n..            ...       ...              ...        ...  \n148             2     31.40                3          2  \n149            40     50.09                3          2  \n150            29    217.61                6          5  \n151            14     41.37                6          5  \n152            33     50.00                3          2  \n\n[153 rows x 27 columns]",
      "text/html": "<div>\n<style scoped>\n    .dataframe tbody tr th:only-of-type {\n        vertical-align: middle;\n    }\n\n    .dataframe tbody tr th {\n        vertical-align: top;\n    }\n\n    .dataframe thead th {\n        text-align: right;\n    }\n</style>\n<table border=\"1\" class=\"dataframe\">\n  <thead>\n    <tr style=\"text-align: right;\">\n      <th></th>\n      <th>Unnamed: 0</th>\n      <th>Chromosome</th>\n      <th>Position</th>\n      <th>Variant_Classification</th>\n      <th>Reference_Allele</th>\n      <th>Tumor_Seq_Allele1</th>\n      <th>Tumor_Seq_Allele2</th>\n      <th>HGVSc</th>\n      <th>HGVSp</th>\n      <th>Exon_Number</th>\n      <th>...</th>\n      <th>Codons</th>\n      <th>STRAND_VEP</th>\n      <th>EXON</th>\n      <th>IMPACT</th>\n      <th>GENE_PHENO</th>\n      <th>FILTER</th>\n      <th>flanking_bps</th>\n      <th>vcf_qual</th>\n      <th>MUTATION_EFFECT</th>\n      <th>ONCOGENIC</th>\n    </tr>\n  </thead>\n  <tbody>\n    <tr>\n      <th>0</th>\n      <td>0</td>\n      <td>1</td>\n      <td>2488139</td>\n      <td>1</td>\n      <td>2</td>\n      <td>2</td>\n      <td>0</td>\n      <td>56</td>\n      <td>88</td>\n      <td>4</td>\n      <td>...</td>\n      <td>66</td>\n      <td>1.0</td>\n      <td>73</td>\n      <td>0</td>\n      <td>1.0</td>\n      <td>0</td>\n      <td>26</td>\n      <td>31.76</td>\n      <td>3</td>\n      <td>2</td>\n    </tr>\n    <tr>\n      <th>1</th>\n      <td>2</td>\n      <td>1</td>\n      <td>120612018</td>\n      <td>4</td>\n      <td>1</td>\n      <td>3</td>\n      <td>3</td>\n      <td>59</td>\n      <td>64</td>\n      <td>2</td>\n      <td>...</td>\n      <td>34</td>\n      <td>-1.0</td>\n      <td>78</td>\n      <td>0</td>\n      <td>1.0</td>\n      <td>0</td>\n      <td>22</td>\n      <td>45.74</td>\n      <td>3</td>\n      <td>2</td>\n    </tr>\n    <tr>\n      <th>2</th>\n      <td>4</td>\n      <td>4</td>\n      <td>57798317</td>\n      <td>2</td>\n      <td>0</td>\n      <td>3</td>\n      <td>3</td>\n      <td>50</td>\n      <td>83</td>\n      <td>61</td>\n      <td>...</td>\n      <td>52</td>\n      <td>1.0</td>\n      <td>57</td>\n      <td>0</td>\n      <td>1.0</td>\n      <td>0</td>\n      <td>31</td>\n      <td>186.03</td>\n      <td>3</td>\n      <td>2</td>\n    </tr>\n    <tr>\n      <th>3</th>\n      <td>8</td>\n      <td>6</td>\n      <td>161807842</td>\n      <td>1</td>\n      <td>2</td>\n      <td>3</td>\n      <td>3</td>\n      <td>6</td>\n      <td>79</td>\n      <td>5</td>\n      <td>...</td>\n      <td>53</td>\n      <td>-1.0</td>\n      <td>14</td>\n      <td>0</td>\n      <td>1.0</td>\n      <td>0</td>\n      <td>37</td>\n      <td>29.79</td>\n      <td>3</td>\n      <td>2</td>\n    </tr>\n    <tr>\n      <th>4</th>\n      <td>17</td>\n      <td>20</td>\n      <td>31386449</td>\n      <td>3</td>\n      <td>3</td>\n      <td>3</td>\n      <td>1</td>\n      <td>24</td>\n      <td>95</td>\n      <td>29</td>\n      <td>...</td>\n      <td>63</td>\n      <td>1.0</td>\n      <td>29</td>\n      <td>1</td>\n      <td>1.0</td>\n      <td>1</td>\n      <td>8</td>\n      <td>16.16</td>\n      <td>3</td>\n      <td>2</td>\n    </tr>\n    <tr>\n      <th>...</th>\n      <td>...</td>\n      <td>...</td>\n      <td>...</td>\n      <td>...</td>\n      <td>...</td>\n      <td>...</td>\n      <td>...</td>\n      <td>...</td>\n      <td>...</td>\n      <td>...</td>\n      <td>...</td>\n      <td>...</td>\n      <td>...</td>\n      <td>...</td>\n      <td>...</td>\n      <td>...</td>\n      <td>...</td>\n      <td>...</td>\n      <td>...</td>\n      <td>...</td>\n      <td>...</td>\n    </tr>\n    <tr>\n      <th>148</th>\n      <td>140430</td>\n      <td>11</td>\n      <td>108178704</td>\n      <td>1</td>\n      <td>1</td>\n      <td>1</td>\n      <td>3</td>\n      <td>81</td>\n      <td>24</td>\n      <td>55</td>\n      <td>...</td>\n      <td>4</td>\n      <td>1.0</td>\n      <td>55</td>\n      <td>0</td>\n      <td>1.0</td>\n      <td>0</td>\n      <td>2</td>\n      <td>31.40</td>\n      <td>3</td>\n      <td>2</td>\n    </tr>\n    <tr>\n      <th>149</th>\n      <td>141120</td>\n      <td>12</td>\n      <td>49426892</td>\n      <td>1</td>\n      <td>2</td>\n      <td>2</td>\n      <td>0</td>\n      <td>7</td>\n      <td>32</td>\n      <td>56</td>\n      <td>...</td>\n      <td>5</td>\n      <td>-1.0</td>\n      <td>56</td>\n      <td>0</td>\n      <td>1.0</td>\n      <td>0</td>\n      <td>40</td>\n      <td>50.09</td>\n      <td>3</td>\n      <td>2</td>\n    </tr>\n    <tr>\n      <th>150</th>\n      <td>141902</td>\n      <td>13</td>\n      <td>32929387</td>\n      <td>0</td>\n      <td>3</td>\n      <td>1</td>\n      <td>1</td>\n      <td>96</td>\n      <td>99</td>\n      <td>25</td>\n      <td>...</td>\n      <td>42</td>\n      <td>1.0</td>\n      <td>25</td>\n      <td>2</td>\n      <td>1.0</td>\n      <td>1</td>\n      <td>29</td>\n      <td>217.61</td>\n      <td>6</td>\n      <td>5</td>\n    </tr>\n    <tr>\n      <th>151</th>\n      <td>144588</td>\n      <td>17</td>\n      <td>41228505</td>\n      <td>0</td>\n      <td>1</td>\n      <td>1</td>\n      <td>3</td>\n      <td>67</td>\n      <td>3</td>\n      <td>24</td>\n      <td>...</td>\n      <td>28</td>\n      <td>-1.0</td>\n      <td>24</td>\n      <td>2</td>\n      <td>1.0</td>\n      <td>0</td>\n      <td>14</td>\n      <td>41.37</td>\n      <td>6</td>\n      <td>5</td>\n    </tr>\n    <tr>\n      <th>152</th>\n      <td>148100</td>\n      <td>23</td>\n      <td>44929062</td>\n      <td>1</td>\n      <td>1</td>\n      <td>1</td>\n      <td>0</td>\n      <td>33</td>\n      <td>81</td>\n      <td>31</td>\n      <td>...</td>\n      <td>53</td>\n      <td>1.0</td>\n      <td>31</td>\n      <td>0</td>\n      <td>1.0</td>\n      <td>0</td>\n      <td>33</td>\n      <td>50.00</td>\n      <td>3</td>\n      <td>2</td>\n    </tr>\n  </tbody>\n</table>\n<p>153 rows × 27 columns</p>\n</div>"
     },
     "execution_count": 17,
     "metadata": {},
     "output_type": "execute_result"
    }
   ],
   "source": [
    "data"
   ],
   "metadata": {
    "collapsed": false
   }
  },
  {
   "cell_type": "code",
   "execution_count": 18,
   "outputs": [],
   "source": [
    "X = data.loc[:, data.columns != 'IMPACT'].values\n",
    "y = data['IMPACT'].values\n",
    "scaler = proc.StandardScaler()\n",
    "X_scaled = scaler.fit_transform(X)\n",
    "X_train, X_test, y_train, y_test = train_test_split(X_scaled, y, test_size=0.33, random_state=42)"
   ],
   "metadata": {
    "collapsed": false
   }
  },
  {
   "cell_type": "code",
   "execution_count": 9,
   "outputs": [
    {
     "data": {
      "text/plain": "array([[-1.58732524, -1.62617121, -1.21633967, ..., -0.45524558,\n        -0.4459799 , -0.36888344],\n       [-1.58727892, -1.62617121,  1.11358929, ..., -0.38406013,\n        -0.4459799 , -0.36888344],\n       [-1.5872326 , -1.10997993, -0.12537664, ...,  0.33028947,\n        -0.4459799 , -0.36888344],\n       ...,\n       [ 1.69923383,  0.4385939 , -0.61590269, ...,  0.49109324,\n         1.34967601,  1.5124221 ],\n       [ 1.76144364,  1.12684893, -0.45220712, ..., -0.40631195,\n         1.34967601,  1.5124221 ],\n       [ 1.84278426,  2.15923148, -0.37921566, ..., -0.36236842,\n        -0.4459799 , -0.36888344]])"
     },
     "execution_count": 9,
     "metadata": {},
     "output_type": "execute_result"
    }
   ],
   "source": [
    "# knn\n",
    "from sklearn.neighbors import KNeighborsClassifier\n",
    "knn = KNeighborsClassifier(n_neighbors=3)\n",
    "\n",
    "# fit the classifier to the data\n",
    "knn.fit(X, y)"
   ],
   "metadata": {
    "collapsed": false
   }
  },
  {
   "cell_type": "code",
   "execution_count": null,
   "outputs": [],
   "source": [
    "# svm\n",
    "from sklearn.pipeline import make_pipeline\n",
    "from sklearn.preprocessing import StandardScaler\n",
    "X = np.array([[-1, -1], [-2, -1], [1, 1], [2, 1]])\n",
    "y = np.array([1, 1, 2, 2])\n",
    "from sklearn.svm import SVC\n",
    "clf = make_pipeline(StandardScaler(), SVC(gamma='auto'))\n",
    "clf.fit(X, y)\n",
    "make_pipeline(steps=[('standardscaler', StandardScaler()),\n",
    "                ('svc', SVC(gamma='auto'))])\n",
    "print(clf.predict([[-0.8, -1]]))"
   ],
   "metadata": {
    "collapsed": false
   }
  },
  {
   "cell_type": "code",
   "execution_count": null,
   "outputs": [],
   "source": [
    "# learning vector quantitation\n",
    "import math\n",
    "\n",
    "class LVQ():\n",
    "\n",
    "    # Function here computes the winning vector\n",
    "    # by Euclidean distance\n",
    "    def winner( self, weights, sample ) :\n",
    "\n",
    "        D0 = 0\n",
    "        D1 = 0\n",
    "\n",
    "        for i  in range( len( sample ) ) :\n",
    "            D0 = D0 + math.pow( ( sample[i] - weights[0][i] ), 2 )\n",
    "            D1 = D1 + math.pow( ( sample[i] - weights[1][i] ), 2 )\n",
    "\n",
    "        if D0 > D1 :\n",
    "            return 0\n",
    "        else :\n",
    "            return 1\n",
    "\n",
    "    # Function here updates the winning vector\n",
    "    def update( self, weights, sample, J, alpha, actual ) :\n",
    "          if actual -- J:\n",
    "            for i in range(len(weights)) :\n",
    "                weights[J][i] = weights[J][i] + alpha * ( sample[i] - weights[J][i] )\n",
    "          else:\n",
    "            for i in range(len(weights)) :\n",
    "                weights[J][i] = weights[J][i] - alpha * ( sample[i] - weights[J][i] )\n",
    "\n",
    "    # Training Samples ( m, n ) with their class vector\n",
    "    X =  [[ 0, 0, 1, 1 ],  [ 1, 0, 0, 0 ],\n",
    "          [ 0, 0, 0, 1 ], [ 0, 1, 1, 0 ],\n",
    "          [ 1, 1, 0, 0 ], [ 1, 1, 1, 0 ],]\n",
    "\n",
    "    Y = [ 0, 1, 0, 1, 1, 1 ]\n",
    "    m, n = len( X ), len( X[0] )\n",
    "\n",
    "    # weight initialization ( n, c )\n",
    "    weights = []\n",
    "    weights.append( X.pop( 0 ) )\n",
    "    weights.append( X.pop( 0 ) )\n",
    "\n",
    "    # Samples used in weight initialization will\n",
    "    # not use in training\n",
    "    m = m - 2\n",
    "    Y.pop(0)\n",
    "    Y.pop(0)\n",
    "\n",
    "    # training\n",
    "    ob = LVQ()\n",
    "    epochs = 3\n",
    "    alpha = 0.1\n",
    "\n",
    "    for i in range( epochs ) :\n",
    "        for j in range( m ) :\n",
    "\n",
    "            # Sample selection\n",
    "            T = X[j]\n",
    "\n",
    "            # Compute winner\n",
    "            J = ob.winner( weights, T )\n",
    "\n",
    "            # Update weights\n",
    "            ob.update( weights, T, J, alpha , Y[j])\n",
    "\n",
    "    # classify new input sample\n",
    "    T = [ 0, 0, 1, 0 ]\n",
    "    J = ob.winner( weights, T )\n",
    "    print( \"Sample T belongs to class : \", J )\n",
    "    print( \"Trained weights : \", weights )"
   ],
   "metadata": {
    "collapsed": false
   }
  },
  {
   "cell_type": "code",
   "execution_count": 1,
   "outputs": [
    {
     "data": {
      "text/plain": "<Figure size 640x480 with 2 Axes>",
      "image/png": "[encoded data removed]"
     },
     "metadata": {},
     "output_type": "display_data"
    }
   ],
   "source": [
    "# self organizing map\n",
    "import numpy as np\n",
    "from minisom import MiniSom\n",
    "import matplotlib.pyplot as plt\n",
    "\n",
    "# define the dataset\n",
    "data = np.array([[0.2, 0.4, 0.6],\n",
    "                 [0.4, 0.6, 0.8],\n",
    "                 [0.1, 0.3, 0.5],\n",
    "                 [0.3, 0.5, 0.7]])\n",
    "\n",
    "# create the SOM\n",
    "som_shape = (2, 2)\n",
    "input_len = data.shape[1]\n",
    "som = MiniSom(*som_shape, input_len)\n",
    "\n",
    "# initialize the weights randomly\n",
    "som.random_weights_init(data)\n",
    "\n",
    "# train the SOM for 100 iterations\n",
    "som.train_random(data, 100)\n",
    "\n",
    "# plot the resulting map\n",
    "plt.pcolor(som.distance_map().T, cmap='bone_r')\n",
    "plt.colorbar()\n",
    "\n",
    "# mark the training data on the map\n",
    "markers = ['o', 's', 'D', 'v']\n",
    "colors = ['r', 'g', 'b', 'y']\n",
    "for i, x in enumerate(data):\n",
    "    w = som.winner(x)\n",
    "    plt.plot(w[0] + 0.5, w[1] + 0.5, markers[i], markeredgecolor=colors[i], markerfacecolor='None', markersize=12, markeredgewidth=2)\n",
    "\n",
    "plt.show()"
   ],
   "metadata": {
    "collapsed": false
   }
  },
  {
   "cell_type": "code",
   "execution_count": 2,
   "outputs": [
    {
     "ename": "LinAlgError",
     "evalue": "0-dimensional array given. Array must be at least two-dimensional",
     "output_type": "error",
     "traceback": [
      "\u001B[1;31m---------------------------------------------------------------------------\u001B[0m",
      "\u001B[1;31mLinAlgError\u001B[0m                               Traceback (most recent call last)",
      "Cell \u001B[1;32mIn[2], line 18\u001B[0m\n\u001B[0;32m     16\u001B[0m \u001B[38;5;66;03m# predict the target variable for new input points\u001B[39;00m\n\u001B[0;32m     17\u001B[0m X_test \u001B[38;5;241m=\u001B[39m np\u001B[38;5;241m.\u001B[39mlinspace(\u001B[38;5;241m0\u001B[39m, \u001B[38;5;241m2\u001B[39m\u001B[38;5;241m*\u001B[39mnp\u001B[38;5;241m.\u001B[39mpi, \u001B[38;5;241m100\u001B[39m)\n\u001B[1;32m---> 18\u001B[0m y_pred \u001B[38;5;241m=\u001B[39m [lwr_predict(x, X, y, tau\u001B[38;5;241m=\u001B[39m\u001B[38;5;241m0.1\u001B[39m) \u001B[38;5;28;01mfor\u001B[39;00m x \u001B[38;5;129;01min\u001B[39;00m X_test]\n\u001B[0;32m     20\u001B[0m \u001B[38;5;66;03m# plot the results\u001B[39;00m\n\u001B[0;32m     21\u001B[0m plt\u001B[38;5;241m.\u001B[39mscatter(X, y, color\u001B[38;5;241m=\u001B[39m\u001B[38;5;124m'\u001B[39m\u001B[38;5;124mblue\u001B[39m\u001B[38;5;124m'\u001B[39m, alpha\u001B[38;5;241m=\u001B[39m\u001B[38;5;241m0.5\u001B[39m, label\u001B[38;5;241m=\u001B[39m\u001B[38;5;124m'\u001B[39m\u001B[38;5;124mdata\u001B[39m\u001B[38;5;124m'\u001B[39m)\n",
      "Cell \u001B[1;32mIn[2], line 18\u001B[0m, in \u001B[0;36m<listcomp>\u001B[1;34m(.0)\u001B[0m\n\u001B[0;32m     16\u001B[0m \u001B[38;5;66;03m# predict the target variable for new input points\u001B[39;00m\n\u001B[0;32m     17\u001B[0m X_test \u001B[38;5;241m=\u001B[39m np\u001B[38;5;241m.\u001B[39mlinspace(\u001B[38;5;241m0\u001B[39m, \u001B[38;5;241m2\u001B[39m\u001B[38;5;241m*\u001B[39mnp\u001B[38;5;241m.\u001B[39mpi, \u001B[38;5;241m100\u001B[39m)\n\u001B[1;32m---> 18\u001B[0m y_pred \u001B[38;5;241m=\u001B[39m [\u001B[43mlwr_predict\u001B[49m\u001B[43m(\u001B[49m\u001B[43mx\u001B[49m\u001B[43m,\u001B[49m\u001B[43m \u001B[49m\u001B[43mX\u001B[49m\u001B[43m,\u001B[49m\u001B[43m \u001B[49m\u001B[43my\u001B[49m\u001B[43m,\u001B[49m\u001B[43m \u001B[49m\u001B[43mtau\u001B[49m\u001B[38;5;241;43m=\u001B[39;49m\u001B[38;5;241;43m0.1\u001B[39;49m\u001B[43m)\u001B[49m \u001B[38;5;28;01mfor\u001B[39;00m x \u001B[38;5;129;01min\u001B[39;00m X_test]\n\u001B[0;32m     20\u001B[0m \u001B[38;5;66;03m# plot the results\u001B[39;00m\n\u001B[0;32m     21\u001B[0m plt\u001B[38;5;241m.\u001B[39mscatter(X, y, color\u001B[38;5;241m=\u001B[39m\u001B[38;5;124m'\u001B[39m\u001B[38;5;124mblue\u001B[39m\u001B[38;5;124m'\u001B[39m, alpha\u001B[38;5;241m=\u001B[39m\u001B[38;5;241m0.5\u001B[39m, label\u001B[38;5;241m=\u001B[39m\u001B[38;5;124m'\u001B[39m\u001B[38;5;124mdata\u001B[39m\u001B[38;5;124m'\u001B[39m)\n",
      "Cell \u001B[1;32mIn[2], line 13\u001B[0m, in \u001B[0;36mlwr_predict\u001B[1;34m(x, X, y, tau)\u001B[0m\n\u001B[0;32m     11\u001B[0m \u001B[38;5;28;01mdef\u001B[39;00m \u001B[38;5;21mlwr_predict\u001B[39m(x, X, y, tau):\n\u001B[0;32m     12\u001B[0m     w \u001B[38;5;241m=\u001B[39m np\u001B[38;5;241m.\u001B[39mexp(\u001B[38;5;241m-\u001B[39m((X \u001B[38;5;241m-\u001B[39m x) \u001B[38;5;241m*\u001B[39m\u001B[38;5;241m*\u001B[39m \u001B[38;5;241m2\u001B[39m) \u001B[38;5;241m/\u001B[39m (\u001B[38;5;241m2\u001B[39m \u001B[38;5;241m*\u001B[39m tau \u001B[38;5;241m*\u001B[39m\u001B[38;5;241m*\u001B[39m \u001B[38;5;241m2\u001B[39m))\n\u001B[1;32m---> 13\u001B[0m     theta \u001B[38;5;241m=\u001B[39m \u001B[43mnp\u001B[49m\u001B[38;5;241;43m.\u001B[39;49m\u001B[43mlinalg\u001B[49m\u001B[38;5;241;43m.\u001B[39;49m\u001B[43minv\u001B[49m\u001B[43m(\u001B[49m\u001B[43mX\u001B[49m\u001B[38;5;241;43m.\u001B[39;49m\u001B[43mT\u001B[49m\u001B[43m \u001B[49m\u001B[38;5;241;43m@\u001B[39;49m\u001B[43m \u001B[49m\u001B[43m(\u001B[49m\u001B[43mw\u001B[49m\u001B[43m \u001B[49m\u001B[38;5;241;43m*\u001B[39;49m\u001B[43m \u001B[49m\u001B[43mX\u001B[49m\u001B[43m)\u001B[49m\u001B[43m)\u001B[49m \u001B[38;5;241m@\u001B[39m (X\u001B[38;5;241m.\u001B[39mT \u001B[38;5;241m@\u001B[39m (w \u001B[38;5;241m*\u001B[39m y))\n\u001B[0;32m     14\u001B[0m     \u001B[38;5;28;01mreturn\u001B[39;00m x \u001B[38;5;241m*\u001B[39m theta\n",
      "File \u001B[1;32m<__array_function__ internals>:200\u001B[0m, in \u001B[0;36minv\u001B[1;34m(*args, **kwargs)\u001B[0m\n",
      "File \u001B[1;32m~\\Desktop\\python_envs\\proj3_env\\lib\\site-packages\\numpy\\linalg\\linalg.py:532\u001B[0m, in \u001B[0;36minv\u001B[1;34m(a)\u001B[0m\n\u001B[0;32m    471\u001B[0m \u001B[38;5;250m\u001B[39m\u001B[38;5;124;03m\"\"\"\u001B[39;00m\n\u001B[0;32m    472\u001B[0m \u001B[38;5;124;03mCompute the (multiplicative) inverse of a matrix.\u001B[39;00m\n\u001B[0;32m    473\u001B[0m \n\u001B[1;32m   (...)\u001B[0m\n\u001B[0;32m    529\u001B[0m \n\u001B[0;32m    530\u001B[0m \u001B[38;5;124;03m\"\"\"\u001B[39;00m\n\u001B[0;32m    531\u001B[0m a, wrap \u001B[38;5;241m=\u001B[39m _makearray(a)\n\u001B[1;32m--> 532\u001B[0m \u001B[43m_assert_stacked_2d\u001B[49m\u001B[43m(\u001B[49m\u001B[43ma\u001B[49m\u001B[43m)\u001B[49m\n\u001B[0;32m    533\u001B[0m _assert_stacked_square(a)\n\u001B[0;32m    534\u001B[0m t, result_t \u001B[38;5;241m=\u001B[39m _commonType(a)\n",
      "File \u001B[1;32m~\\Desktop\\python_envs\\proj3_env\\lib\\site-packages\\numpy\\linalg\\linalg.py:183\u001B[0m, in \u001B[0;36m_assert_stacked_2d\u001B[1;34m(*arrays)\u001B[0m\n\u001B[0;32m    181\u001B[0m \u001B[38;5;28;01mfor\u001B[39;00m a \u001B[38;5;129;01min\u001B[39;00m arrays:\n\u001B[0;32m    182\u001B[0m     \u001B[38;5;28;01mif\u001B[39;00m a\u001B[38;5;241m.\u001B[39mndim \u001B[38;5;241m<\u001B[39m \u001B[38;5;241m2\u001B[39m:\n\u001B[1;32m--> 183\u001B[0m         \u001B[38;5;28;01mraise\u001B[39;00m LinAlgError(\u001B[38;5;124m'\u001B[39m\u001B[38;5;132;01m%d\u001B[39;00m\u001B[38;5;124m-dimensional array given. Array must be \u001B[39m\u001B[38;5;124m'\u001B[39m\n\u001B[0;32m    184\u001B[0m                 \u001B[38;5;124m'\u001B[39m\u001B[38;5;124mat least two-dimensional\u001B[39m\u001B[38;5;124m'\u001B[39m \u001B[38;5;241m%\u001B[39m a\u001B[38;5;241m.\u001B[39mndim)\n",
      "\u001B[1;31mLinAlgError\u001B[0m: 0-dimensional array given. Array must be at least two-dimensional"
     ]
    }
   ],
   "source": [
    "# Locally weighted regression\n",
    "import numpy as np\n",
    "import matplotlib.pyplot as plt\n",
    "\n",
    "# generate some random data\n",
    "np.random.seed(0)\n",
    "X = np.linspace(0, 2*np.pi, 100)\n",
    "y = np.sin(X) + np.random.normal(0, 0.1, len(X))\n",
    "\n",
    "# define the LWR function\n",
    "def lwr_predict(x, X, y, tau):\n",
    "    w = np.exp(-((X - x) ** 2) / (2 * tau ** 2))\n",
    "    theta = np.linalg.inv(X.T @ (w * X)) @ (X.T @ (w * y))\n",
    "    return x * theta\n",
    "\n",
    "# predict the target variable for new input points\n",
    "X_test = np.linspace(0, 2*np.pi, 100)\n",
    "y_pred = [lwr_predict(x, X, y, tau=0.1) for x in X_test]\n",
    "\n",
    "# plot the results\n",
    "plt.scatter(X, y, color='blue', alpha=0.5, label='data')\n",
    "plt.plot(X_test, y_pred, color='red', label='LWR prediction')\n",
    "plt.legend()\n",
    "plt.show()"
   ],
   "metadata": {
    "collapsed": false
   }
  },
  {
   "cell_type": "code",
   "execution_count": 20,
   "outputs": [
    {
     "name": "stdout",
     "output_type": "stream",
     "text": [
      "Accuracy: 0.6086956521739131\n"
     ]
    }
   ],
   "source": [
    "# Naive Bayes Classifier\n",
    "from sklearn.naive_bayes import GaussianNB\n",
    "from sklearn.datasets import load_iris\n",
    "from sklearn.model_selection import train_test_split\n",
    "from sklearn.metrics import accuracy_score\n",
    "\n",
    "# split the dataset into training and testing sets\n",
    "X_train, X_test, y_train, y_test = train_test_split(X, y, test_size=0.3, random_state=0)\n",
    "\n",
    "# create a Gaussian Naive Bayes classifier\n",
    "clf = GaussianNB()\n",
    "\n",
    "# train the classifier on the training set\n",
    "clf.fit(X_train, y_train)\n",
    "\n",
    "# make predictions on the testing set\n",
    "y_pred = clf.predict(X_test)\n",
    "\n",
    "# calculate the accuracy of the classifier\n",
    "accuracy = accuracy_score(y_test, y_pred)\n",
    "print(\"Accuracy:\", accuracy)"
   ],
   "metadata": {
    "collapsed": false
   }
  },
  {
   "cell_type": "code",
   "execution_count": 21,
   "outputs": [
    {
     "name": "stdout",
     "output_type": "stream",
     "text": [
      "Accuracy: 0.6086956521739131\n"
     ]
    }
   ],
   "source": [
    "# Gaussian Bayes\n",
    "from sklearn.naive_bayes import GaussianNB\n",
    "from sklearn.datasets import load_iris\n",
    "from sklearn.model_selection import train_test_split\n",
    "from sklearn.metrics import accuracy_score\n",
    "\n",
    "\n",
    "\n",
    "# split the dataset into training and testing sets\n",
    "X_train, X_test, y_train, y_test = train_test_split(X, y, test_size=0.3, random_state=0)\n",
    "\n",
    "# create a Gaussian Naive Bayes classifier\n",
    "clf = GaussianNB()\n",
    "\n",
    "# train the classifier on the training set\n",
    "clf.fit(X_train, y_train)\n",
    "\n",
    "# make predictions on the testing set\n",
    "y_pred = clf.predict(X_test)\n",
    "\n",
    "# calculate the accuracy of the classifier\n",
    "accuracy = accuracy_score(y_test, y_pred)\n",
    "print(\"Accuracy:\", accuracy)"
   ],
   "metadata": {
    "collapsed": false
   }
  },
  {
   "cell_type": "code",
   "execution_count": 24,
   "outputs": [
    {
     "name": "stdout",
     "output_type": "stream",
     "text": [
      "Accuracy: 0.2608695652173913\n"
     ]
    }
   ],
   "source": [
    "# multinomial naive bayes\n",
    "from sklearn.naive_bayes import MultinomialNB\n",
    "from sklearn.datasets import fetch_20newsgroups\n",
    "from sklearn.feature_extraction.text import CountVectorizer\n",
    "from sklearn.model_selection import train_test_split\n",
    "from sklearn.metrics import accuracy_score\n",
    "\n",
    "# load the 20 newsgroups dataset\n",
    "newsgroups = fetch_20newsgroups(subset='all')\n",
    "\n",
    "# convert the text into a bag of words representation\n",
    "vectorizer = CountVectorizer()\n",
    "# X = vectorizer.fit_transform(X)\n",
    "\n",
    "# split the dataset into training and testing sets\n",
    "X_train, X_test, y_train, y_test = train_test_split(np.abs(X), y, test_size=0.3, random_state=0)\n",
    "\n",
    "# create a Multinomial Naive Bayes classifier\n",
    "clf = MultinomialNB()\n",
    "\n",
    "# train the classifier on the training set\n",
    "clf.fit(X_train, y_train)\n",
    "\n",
    "# make predictions on the testing set\n",
    "y_pred = clf.predict(X_test)\n",
    "\n",
    "# calculate the accuracy of the classifier\n",
    "accuracy = accuracy_score(y_test, y_pred)\n",
    "print(\"Accuracy:\", accuracy)"
   ],
   "metadata": {
    "collapsed": false
   }
  },
  {
   "cell_type": "code",
   "execution_count": 27,
   "outputs": [
    {
     "name": "stdout",
     "output_type": "stream",
     "text": [
      "Accuracy: 0.32608695652173914\n"
     ]
    },
    {
     "name": "stderr",
     "output_type": "stream",
     "text": [
      "C:\\Users\\Zoli\\AppData\\Local\\Temp\\ipykernel_7468\\758007664.py:50: RuntimeWarning: overflow encountered in exp\n",
      "  probs = np.exp(log_probs)\n"
     ]
    }
   ],
   "source": [
    "# Averaged One-dependence Estimators\n",
    "from sklearn.naive_bayes import BernoulliNB\n",
    "from sklearn.datasets import load_iris\n",
    "from sklearn.model_selection import train_test_split\n",
    "from sklearn.metrics import accuracy_score\n",
    "import numpy as np\n",
    "\n",
    "class AODE:\n",
    "    def __init__(self, alpha=1):\n",
    "        self.alpha = alpha\n",
    "        self.class_prior_ = None\n",
    "        self.feature_log_prob_ = None\n",
    "        self.ode_probs_ = None\n",
    "\n",
    "    def fit(self, X, y):\n",
    "        n_samples, n_features = X.shape\n",
    "        self.class_prior_ = np.zeros(np.max(y) + 1)\n",
    "        self.feature_log_prob_ = np.zeros((np.max(y) + 1, n_features))\n",
    "        self.ode_probs_ = np.zeros((np.max(y) + 1, n_features))\n",
    "\n",
    "        # calculate class priors and feature probabilities\n",
    "        for c in range(np.max(y) + 1):\n",
    "            self.class_prior_[c] = (y == c).sum() / n_samples\n",
    "            self.feature_log_prob_[c] = np.log((X[y == c] + self.alpha).sum(axis=0) / ((y == c).sum() + 2*self.alpha))\n",
    "\n",
    "        # calculate ODE probabilities\n",
    "        for c in range(np.max(y) + 1):\n",
    "            for i in range(n_features):\n",
    "                for j in range(i+1, n_features):\n",
    "                    p_ij = np.zeros((2, 2))\n",
    "                    p_ij[0, 0] = np.sum((X[:, i] == 0) & (X[:, j] == 0) & (y == c))\n",
    "                    p_ij[0, 1] = np.sum((X[:, i] == 0) & (X[:, j] == 1) & (y == c))\n",
    "                    p_ij[1, 0] = np.sum((X[:, i] == 1) & (X[:, j] == 0) & (y == c))\n",
    "                    p_ij[1, 1] = np.sum((X[:, i] == 1) & (X[:, j] == 1) & (y == c))\n",
    "                    self.ode_probs_[c, i] += np.log((p_ij[1, 1] + self.alpha) / (p_ij[1, 0] + p_ij[1, 1] + 2*self.alpha))\n",
    "                    self.ode_probs_[c, j] += np.log((p_ij[1, 1] + self.alpha) / (p_ij[0, 1] + p_ij[1, 1] + 2*self.alpha))\n",
    "\n",
    "    def predict(self, X):\n",
    "        n_samples, n_features = X.shape\n",
    "        n_classes = len(self.class_prior_)\n",
    "        log_probs = np.zeros((n_samples, n_classes))\n",
    "\n",
    "        # calculate class conditional probabilities\n",
    "        for c in range(n_classes):\n",
    "            log_probs[:, c] += np.log(self.class_prior_[c])\n",
    "            log_probs[:, c] += np.sum(self.feature_log_prob_[c, :][None, :] * X, axis=1)\n",
    "            log_probs[:, c] += np.sum(self.ode_probs_[c, :][None, :] * X[:, None, :] * (1 - X[:, :, None]), axis=(1, 2))\n",
    "\n",
    "        # calculate posterior probabilities\n",
    "        probs = np.exp(log_probs)\n",
    "        probs = np.sum(probs, axis=1)[:, None]\n",
    "\n",
    "        # return class predictions\n",
    "        return np.argmax(probs, axis=1)\n",
    "\n",
    "model = AODE()\n",
    "model.fit(X_train,y_train)\n",
    "y_pred = model.predict(X_test)\n",
    "\n",
    "# calculate the accuracy of the classifier\n",
    "accuracy = accuracy_score(y_test, y_pred)\n",
    "print(\"Accuracy:\", accuracy)"
   ],
   "metadata": {
    "collapsed": false
   }
  },
  {
   "cell_type": "code",
   "execution_count": 7,
   "outputs": [
    {
     "name": "stdout",
     "output_type": "stream",
     "text": [
      "True\n",
      "+------+----------+\n",
      "| E    |   phi(E) |\n",
      "+======+==========+\n",
      "| E(0) |   0.9030 |\n",
      "+------+----------+\n",
      "| E(1) |   0.0970 |\n",
      "+------+----------+\n"
     ]
    },
    {
     "name": "stderr",
     "output_type": "stream",
     "text": [
      "C:\\Users\\Zoli\\Desktop\\python_envs\\proj3_env\\lib\\site-packages\\pgmpy\\models\\BayesianModel.py:8: FutureWarning: BayesianModel has been renamed to BayesianNetwork. Please use BayesianNetwork class, BayesianModel will be removed in future.\n",
      "  warnings.warn(\n"
     ]
    }
   ],
   "source": [
    "# bayesian belief network\n",
    "\n",
    "from pgmpy.models import BayesianModel\n",
    "from pgmpy.factors.discrete import TabularCPD\n",
    "from pgmpy.inference import VariableElimination\n",
    "import numpy as np\n",
    "\n",
    "# create Bayesian network model\n",
    "model = BayesianModel([('A', 'B'), ('C', 'B'), ('C', 'D'), ('B', 'E')])\n",
    "\n",
    "# create conditional probability distributions\n",
    "cpd_a = TabularCPD('A', 2, [[0.6], [0.4]])\n",
    "cpd_c = TabularCPD('C', 2, [[0.5], [0.5]])\n",
    "cpd_b = TabularCPD('B', 2, [[0.9, 0.7, 0.8, 0.1], [0.1, 0.3, 0.2, 0.9]], evidence=['A', 'C'], evidence_card=[2, 2])\n",
    "cpd_d = TabularCPD('D', 2, [[0.9, 0.3], [0.1, 0.7]], evidence=['C'], evidence_card=[2])\n",
    "cpd_e = TabularCPD('E', 2, [[0.99, 0.7], [0.01, 0.3]], evidence=['B'], evidence_card=[2])\n",
    "\n",
    "# add conditional probability distributions to model\n",
    "model.add_cpds(cpd_a, cpd_c, cpd_b, cpd_d, cpd_e)\n",
    "\n",
    "# check if model is valid\n",
    "print(model.check_model())\n",
    "\n",
    "# create variable elimination inference object\n",
    "infer = VariableElimination(model)\n",
    "\n",
    "# infer probabilities for a given observation\n",
    "obs = {'A': 0, 'C': 1}\n",
    "prob = infer.query(['E'], evidence=obs)\n",
    "print(prob)"
   ],
   "metadata": {
    "collapsed": false
   }
  },
  {
   "cell_type": "code",
   "execution_count": 28,
   "outputs": [
    {
     "name": "stdout",
     "output_type": "stream",
     "text": [
      "True\n"
     ]
    },
    {
     "name": "stderr",
     "output_type": "stream",
     "text": [
      "C:\\Users\\Zoli\\Desktop\\python_envs\\proj3_env\\lib\\site-packages\\pgmpy\\models\\BayesianModel.py:8: FutureWarning: BayesianModel has been renamed to BayesianNetwork. Please use BayesianNetwork class, BayesianModel will be removed in future.\n",
      "  warnings.warn(\n"
     ]
    }
   ],
   "source": [
    "# bayesian network\n",
    "from pgmpy.models import BayesianModel\n",
    "from pgmpy.factors.discrete import TabularCPD\n",
    "\n",
    "# create the Bayesian network model\n",
    "model = BayesianModel([('D', 'G'), ('I', 'G'), ('G', 'L'), ('G', 'S')])\n",
    "\n",
    "# create the conditional probability distributions\n",
    "cpd_d = TabularCPD('D', 2, [[0.6], [0.4]])\n",
    "cpd_i = TabularCPD('I', 2, [[0.7], [0.3]])\n",
    "cpd_g = TabularCPD('G', 3, [[0.3, 0.05, 0.9, 0.5], [0.4, 0.25, 0.08, 0.3], [0.3, 0.7, 0.02, 0.2]],\n",
    "                   evidence=['D', 'I'], evidence_card=[2, 2])\n",
    "cpd_l = TabularCPD('L', 2, [[0.1, 0.4, 0.99], [0.9, 0.6, 0.01]], evidence=['G'], evidence_card=[3])\n",
    "cpd_s = TabularCPD('S', 2, [[0.5, 0.9, 0.7], [0.5, 0.1, 0.3]], evidence=['G'], evidence_card=[3])\n",
    "\n",
    "# add the conditional probability distributions to the model\n",
    "model.add_cpds(cpd_d, cpd_i, cpd_g, cpd_l, cpd_s)\n",
    "\n",
    "# check if the model is valid\n",
    "print(model.check_model())"
   ],
   "metadata": {
    "collapsed": false
   }
  },
  {
   "cell_type": "code",
   "execution_count": null,
   "outputs": [],
   "source": [],
   "metadata": {
    "collapsed": false
   }
  }
 ],
 "metadata": {
  "kernelspec": {
   "display_name": "Python 3",
   "language": "python",
   "name": "python3"
  },
  "language_info": {
   "codemirror_mode": {
    "name": "ipython",
    "version": 2
   },
   "file_extension": ".py",
   "mimetype": "text/x-python",
   "name": "python",
   "nbconvert_exporter": "python",
   "pygments_lexer": "ipython2",
   "version": "2.7.6"
  }
 },
 "nbformat": 4,
 "nbformat_minor": 0
}
