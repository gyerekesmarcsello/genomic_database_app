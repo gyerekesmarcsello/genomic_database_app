{
 "cells": [
  {
   "cell_type": "code",
   "execution_count": 2,
   "outputs": [],
   "source": [
    "from app.Algorithms.svd import eval_svd\n",
    "from app.Algorithms.pca import eval_pca\n",
    "from app.Algorithms.plsr import eval_plsr\n",
    "from app.Algorithms.mda import eval_mda\n",
    "from app.Algorithms.lda import eval_lda"
   ],
   "metadata": {
    "collapsed": false
   }
  },
  {
   "cell_type": "code",
   "execution_count": 1,
   "outputs": [
    {
     "name": "stdout",
     "output_type": "stream",
     "text": [
      "Model: Linear Discriminant Analysis\n",
      "Accuracy: 84.46125235265264%\n",
      "-----------------------------\n",
      "Model: Mixture Discriminant Analysis\n",
      "Accuracy: 49.98233265%\n",
      "-----------------------------\n",
      "Model: Logistic Regression with PCA\n",
      "Accuracy: 27.532352624%\n",
      "-----------------------------\n",
      "SVD + Logistic Regression\n",
      "Accuracy: 44.612346377543%\n",
      "-----------------------------\n",
      "Model: Partial Least Squares Regression\n",
      "Accuracy: 80.445667575457%\n",
      "-----------------------------\n"
     ]
    }
   ],
   "source": [
    "path = \"database/data/vcf_data.csv\"\n",
    "funcions = [eval_lda, eval_mda, eval_pca, eval_svd, eval_plsr]\n",
    "\n",
    "for func in funcions:\n",
    "    func(path)\n",
    "    print('-----------------------------')"
   ],
   "metadata": {
    "collapsed": false
   }
  },
  {
   "cell_type": "code",
   "execution_count": null,
   "outputs": [],
   "source": [],
   "metadata": {
    "collapsed": false
   }
  }
 ],
 "metadata": {
  "kernelspec": {
   "display_name": "Python 3",
   "language": "python",
   "name": "python3"
  },
  "language_info": {
   "codemirror_mode": {
    "name": "ipython",
    "version": 2
   },
   "file_extension": ".py",
   "mimetype": "text/x-python",
   "name": "python",
   "nbconvert_exporter": "python",
   "pygments_lexer": "ipython2",
   "version": "2.7.6"
  }
 },
 "nbformat": 4,
 "nbformat_minor": 0
}
